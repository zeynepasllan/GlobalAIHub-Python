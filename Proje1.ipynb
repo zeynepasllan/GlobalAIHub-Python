{
 "cells": [
  {
   "cell_type": "code",
   "execution_count": 1,
   "metadata": {},
   "outputs": [
    {
     "data": {
      "text/plain": [
       "'ogrenci_sil(182511003)\\ngecen=gecen()\\nkalan=kalan()\\ndata=gecen+kalan'"
      ]
     },
     "execution_count": 1,
     "metadata": {},
     "output_type": "execute_result"
    }
   ],
   "source": [
    "import _sqlite3 as sql\n",
    "from math import *\n",
    "import pandas as pd\n",
    "\n",
    "class ogrenci:\n",
    "    def __init__(self,ogr_adi,ogr_no,ders,vize=0,final=0):\n",
    "        self.ogr_adi=ogr_adi\n",
    "        self.ogr_no=ogr_no\n",
    "        self.ders=ders\n",
    "        self.vize=vize\n",
    "        self.final=final\n",
    "        \n",
    "    def kayitEkle(self):\n",
    "        try:\n",
    "            ort=0\n",
    "            harf=\"--\"\n",
    "            durum=\"\"\n",
    "            vizeKatkı=(self.vize*40.0)/100.0\n",
    "            finalKatkı=(self.final*60.0)/100.0 \n",
    "            ort=vizeKatkı+finalKatkı\n",
    "            if ort%1<=0.49:\n",
    "                ort=round(ort)\n",
    "            else:\n",
    "                ort=ceil(ort)        \n",
    "                \n",
    "            if ort>=59.5 and ort<=100:\n",
    "                durum=\"geçti\"\n",
    "            elif ort>=0 and ort<=59.4:\n",
    "                durum=\"kaldı\"\n",
    "            else:\n",
    "                print(\"Geçerli Bir Not Giriniz!\")\n",
    "            \n",
    "            if ort==0 or ort<=29:\n",
    "                harf=\"FF\"\n",
    "            elif ort>=30 and ort<=44:\n",
    "                harf=\"FD\"\n",
    "            elif ort>=45 and ort<=54:\n",
    "                harf>=\"DD\"\n",
    "            elif ort>=55 and ort<=59:\n",
    "                harf=\"DC\"\n",
    "            elif ort>=60 and ort<=65:\n",
    "                harf=\"CC\"\n",
    "            elif ort>=66 and ort<=75:\n",
    "                harf=\"CB\"\n",
    "            elif ort>=76 and ort<=81:\n",
    "                harf=\"BB\"\n",
    "            elif ort>=82 and ort<=87:\n",
    "                harf=\"BA\"\n",
    "            elif ort>=88 and ort<=100:\n",
    "                harf=\"AA\"\n",
    "            else:\n",
    "                harf=\"--\"\n",
    "\n",
    "            con=sql.connect(\"globalai.db\")\n",
    "            cursor=con.cursor()\n",
    "            cursor.execute(\"INSERT INTO ogrenciler(adi,no,ders,vize,final,ortalama,harf,durum)VALUES(?,?,?,?,?,?,?,?)\",(str(self.ogr_adi),int(self.ogr_no),str(self.ders),int(self.vize),int(self.final),ort,harf,durum))\n",
    "            con.commit()\n",
    "            print(\"Ekleme İşleme Başarılı\")\n",
    "            con.close()\n",
    "            \n",
    "        except Exception as e :\n",
    "            if e.args==('UNIQUE constraint failed: ogrenciler.no',):\n",
    "                print(\"Öğrenci No Benzersiz Olmalı Lütfen Kontrol Edin!\")\n",
    "            con=sql.connect(\"globalai.db\")\n",
    "            cursor=con.cursor()\n",
    "            cursor.execute(\"CREATE TABLE if not exists ogrenciler(id INTEGER,adi TEXT,no INT UNIQUE,ders TEXT,vize INT,final INT,ortalama REAL,harf TEXT,durum TEXT,PRIMARY KEY('id' AUTOINCREMENT))\")\n",
    "            con.commit()\n",
    "            con.close()\n",
    "    \n",
    "    \n",
    "def kayıtList():\n",
    "    rowsList=[]\n",
    "    con=sql.connect(\"globalai.db\")\n",
    "    cursor=con.cursor()\n",
    "    cursor.execute(\"select * from ogrenciler\")\n",
    "    rows=cursor.fetchall()\n",
    "    for i in rows:\n",
    "        rowsList.append(i)\n",
    "    return rowsList\n",
    "def gecen():\n",
    "    rowsList=[]\n",
    "    con=sql.connect(\"globalai.db\")\n",
    "    cursor=con.cursor()\n",
    "    cursor.execute(\"select no,adi,ders,durum,harf from ogrenciler where durum='geçti' order by adi\")\n",
    "    rows=cursor.fetchall()\n",
    "    for i in rows:\n",
    "        rowsList.append(i)\n",
    "    return rowsList\n",
    "def kalan():\n",
    "    rowsList=[]\n",
    "    con=sql.connect(\"globalai.db\")\n",
    "    cursor=con.cursor()\n",
    "    cursor.execute(\"select no,adi,ders,durum,harf from ogrenciler where durum='kaldı' order by adi\")\n",
    "    rows=cursor.fetchall()\n",
    "    for i in rows:\n",
    "        rowsList.append(i)\n",
    "    return rowsList\n",
    "\n",
    "def ogrenci_sil(ogr_no):\n",
    "    con=sql.connect(\"globalai.db\")\n",
    "    cursor=con.cursor()\n",
    "    cursor.execute(\"delete from ogrenciler where no={}\".format(ogr_no))\n",
    "    con.commit()\n",
    "    con.close()\n",
    "    print(str(ogr_no)+\"'Lu Öğrenci Silindi\")\n",
    "\n",
    "def guncelleme(vize,final):\n",
    "    harf=\"--\"\n",
    "    ort=0\n",
    "    vizeKatkı=(vize*40.0)/100.0\n",
    "    finalKatkı=(final*60.0)/100.0\n",
    "    ort=vizeKatkı+finalKatkı\n",
    "    durum=\"\"\n",
    "    if (vize>=100 or final>=100) or (vize<0 or final<0):\n",
    "        print(\"Hatalı not girişi\")\n",
    "        return 0\n",
    "    if ort%1<=0.49:\n",
    "        ort=round(ort)\n",
    "    else:\n",
    "        ort=ceil(ort)        \n",
    "\n",
    "    if ort>=59.5 and ort<=100:\n",
    "        durum=\"geçti\"\n",
    "    elif ort>=0 and ort<=59.4:\n",
    "        durum=\"kaldı\"\n",
    "    else:\n",
    "        print(\"Geçerli Bir Not Giriniz!\")\n",
    "        return 0\n",
    "\n",
    "    if ort==0 or ort<=29:\n",
    "        harf=\"FF\"\n",
    "    elif ort>=30 and ort<=44:\n",
    "        harf=\"FD\"\n",
    "    elif ort>=45 and ort<=54:\n",
    "        harf>=\"DD\"\n",
    "    elif ort>=55 and ort<=59:\n",
    "        harf=\"DC\"\n",
    "    elif ort>=60 and ort<=65:\n",
    "        harf=\"CC\"\n",
    "    elif ort>=66 and ort<=75:\n",
    "        harf=\"CB\"\n",
    "    elif ort>=76 and ort<=81:\n",
    "        harf=\"BB\"\n",
    "    elif ort>=82 and ort<=87:\n",
    "        harf=\"BA\"\n",
    "    elif ort>=88 and ort<=100:\n",
    "        harf=\"AA\"\n",
    "    else:\n",
    "        harf=\"--\"\n",
    "    return ort,harf,durum\n",
    "\n",
    "def ogrvizefinal(no):\n",
    "    rowsList=[]\n",
    "    con=sql.connect(\"globalai.db\")\n",
    "    cursor=con.cursor()\n",
    "    cursor.execute(\"select vize,final from ogrenciler where no={}\".format(no))\n",
    "    rows=cursor.fetchall()\n",
    "    for i in rows:\n",
    "        rowsList.append(i)\n",
    "    return rowsList\n",
    "    \n",
    "def ogrenci_duzenle(ogr_no):\n",
    "    ad=str(input(\"Öğrenci Adi:\"))\n",
    "    vize=int(input(\"Vize:\"))\n",
    "    final=int(input(\"Final:\"))\n",
    "    ort=0.0\n",
    "    harf=\"\"\n",
    "    durum=\"\"\n",
    "    ort,harf,durum=guncelleme(vize,final)\n",
    "    params=(ad,vize,final,ort,harf,durum,ogr_no)\n",
    "    con=sql.connect(\"globalai.db\")\n",
    "    cursor=con.cursor()\n",
    "    cursor.execute(\"update ogrenciler set adi=?,vize=?,final=?,ortalama=?,harf=?,durum=? where no=?\",params)\n",
    "    con.commit()\n",
    "    con.close()\n",
    "    print(\"Güncelleme Başarılı!\")\n",
    "    \n",
    "    \n",
    "\n",
    "#ogrenci=ogrenci(\"Mustafa\",182511013,\"Java\",100,80)\n",
    "#ogrenci.kayitEkle()\n",
    "\n",
    "\"\"\"adi=input(\"Öğrenci İsmi:\")\n",
    "no=int(input(\"Öğrenci No:\"))\n",
    "vize=int(input(\"Öğrenci Vize:\"))\n",
    "final=int(input(\"Öğrenci Final:\"))\n",
    "\n",
    "ogr=ogrenci(adi,no,vize,final)\n",
    "ogr.kayitEkle()\"\"\"\n",
    "\n",
    "\"\"\"ogrenci_sil(182511003)\n",
    "gecen=gecen()\n",
    "kalan=kalan()\n",
    "data=gecen+kalan\"\"\"\n",
    "#ogrenci_duzenle(182511001)\n"
   ]
  },
  {
   "cell_type": "code",
   "execution_count": null,
   "metadata": {},
   "outputs": [
    {
     "name": "stdout",
     "output_type": "stream",
     "text": [
      "0--> Çıkış \n",
      "1-->Öğrenci Ekle\n",
      "2--> Öğrenci Düzenle\n",
      "3--> KayıtGöster\n",
      "4--> CSV Dışa Aktar\n",
      "5--> Geçenlerin Listesi\n",
      "6--> Kalanların Listesi\n"
     ]
    },
    {
     "name": "stdin",
     "output_type": "stream",
     "text": [
      " 1\n",
      "Öğrenci Adi: mehmet\n",
      "Öğrenci No: 100\n",
      "Ders Adı: python\n",
      "Vize: 100\n",
      "Final: 90\n"
     ]
    },
    {
     "name": "stdout",
     "output_type": "stream",
     "text": [
      "0--> Çıkış \n",
      "1-->Öğrenci Ekle\n",
      "2--> Öğrenci Düzenle\n",
      "3--> KayıtGöster\n",
      "4--> CSV Dışa Aktar\n",
      "5--> Geçenlerin Listesi\n",
      "6--> Kalanların Listesi\n"
     ]
    },
    {
     "name": "stdin",
     "output_type": "stream",
     "text": [
      " 1\n",
      "Öğrenci Adi: zeynep\n",
      "Öğrenci No: 101\n",
      "Ders Adı: java\n",
      "Vize: 100\n",
      "Final: 80\n"
     ]
    },
    {
     "name": "stdout",
     "output_type": "stream",
     "text": [
      "Ekleme İşleme Başarılı\n",
      "0--> Çıkış \n",
      "1-->Öğrenci Ekle\n",
      "2--> Öğrenci Düzenle\n",
      "3--> KayıtGöster\n",
      "4--> CSV Dışa Aktar\n",
      "5--> Geçenlerin Listesi\n",
      "6--> Kalanların Listesi\n"
     ]
    },
    {
     "name": "stdin",
     "output_type": "stream",
     "text": [
      " 1\n",
      "Öğrenci Adi: tayfun\n",
      "Öğrenci No: 103\n",
      "Ders Adı: python\n",
      "Vize: 100\n",
      "Final: 70\n"
     ]
    },
    {
     "name": "stdout",
     "output_type": "stream",
     "text": [
      "Ekleme İşleme Başarılı\n",
      "0--> Çıkış \n",
      "1-->Öğrenci Ekle\n",
      "2--> Öğrenci Düzenle\n",
      "3--> KayıtGöster\n",
      "4--> CSV Dışa Aktar\n",
      "5--> Geçenlerin Listesi\n",
      "6--> Kalanların Listesi\n"
     ]
    },
    {
     "name": "stdin",
     "output_type": "stream",
     "text": [
      " 1\n",
      "Öğrenci Adi: ezgi\n",
      "Öğrenci No: 104\n",
      "Ders Adı: python\n",
      "Vize: 100\n",
      "Final: 60\n"
     ]
    },
    {
     "name": "stdout",
     "output_type": "stream",
     "text": [
      "Ekleme İşleme Başarılı\n",
      "0--> Çıkış \n",
      "1-->Öğrenci Ekle\n",
      "2--> Öğrenci Düzenle\n",
      "3--> KayıtGöster\n",
      "4--> CSV Dışa Aktar\n",
      "5--> Geçenlerin Listesi\n",
      "6--> Kalanların Listesi\n"
     ]
    },
    {
     "name": "stdin",
     "output_type": "stream",
     "text": [
      " 1\n",
      "Öğrenci Adi: furkan\n",
      "Öğrenci No: 105\n",
      "Ders Adı: python\n",
      "Vize: 100\n",
      "Final: 50\n"
     ]
    },
    {
     "name": "stdout",
     "output_type": "stream",
     "text": [
      "Ekleme İşleme Başarılı\n",
      "0--> Çıkış \n",
      "1-->Öğrenci Ekle\n",
      "2--> Öğrenci Düzenle\n",
      "3--> KayıtGöster\n",
      "4--> CSV Dışa Aktar\n",
      "5--> Geçenlerin Listesi\n",
      "6--> Kalanların Listesi\n"
     ]
    },
    {
     "name": "stdin",
     "output_type": "stream",
     "text": [
      " 3\n"
     ]
    },
    {
     "name": "stdout",
     "output_type": "stream",
     "text": [
      "Sınıf Listesi\n",
      "    No     Adi    Ders  Durum harf\n",
      "0  104    ezgi  python  geçti   BB\n",
      "1  105  furkan  python  geçti   CB\n",
      "2  103  tayfun  python  geçti   BA\n",
      "3  101  zeynep    java  geçti   AA\n",
      "\n",
      " \n",
      "\n",
      "0--> Çıkış \n",
      "1-->Öğrenci Ekle\n",
      "2--> Öğrenci Düzenle\n",
      "3--> KayıtGöster\n",
      "4--> CSV Dışa Aktar\n",
      "5--> Geçenlerin Listesi\n",
      "6--> Kalanların Listesi\n"
     ]
    },
    {
     "name": "stdin",
     "output_type": "stream",
     "text": [
      " 1\n",
      "Öğrenci Adi: mehmet\n",
      "Öğrenci No: 100\n",
      "Ders Adı: python\n",
      "Vize: 100\n",
      "Final: 40\n"
     ]
    },
    {
     "name": "stdout",
     "output_type": "stream",
     "text": [
      "Ekleme İşleme Başarılı\n",
      "0--> Çıkış \n",
      "1-->Öğrenci Ekle\n",
      "2--> Öğrenci Düzenle\n",
      "3--> KayıtGöster\n",
      "4--> CSV Dışa Aktar\n",
      "5--> Geçenlerin Listesi\n",
      "6--> Kalanların Listesi\n"
     ]
    },
    {
     "name": "stdin",
     "output_type": "stream",
     "text": [
      " 3\n"
     ]
    },
    {
     "name": "stdout",
     "output_type": "stream",
     "text": [
      "Sınıf Listesi\n",
      "    No     Adi    Ders  Durum harf\n",
      "0  104    ezgi  python  geçti   BB\n",
      "1  105  furkan  python  geçti   CB\n",
      "2  100  mehmet  python  geçti   CC\n",
      "3  103  tayfun  python  geçti   BA\n",
      "4  101  zeynep    java  geçti   AA\n",
      "\n",
      " \n",
      "\n",
      "0--> Çıkış \n",
      "1-->Öğrenci Ekle\n",
      "2--> Öğrenci Düzenle\n",
      "3--> KayıtGöster\n",
      "4--> CSV Dışa Aktar\n",
      "5--> Geçenlerin Listesi\n",
      "6--> Kalanların Listesi\n"
     ]
    },
    {
     "name": "stdin",
     "output_type": "stream",
     "text": [
      " 5\n"
     ]
    },
    {
     "name": "stdout",
     "output_type": "stream",
     "text": [
      "Geçenlerin Listesi\n",
      "    No     Adi    Ders  Durum harf\n",
      "0  104    ezgi  python  geçti   BB\n",
      "1  105  furkan  python  geçti   CB\n",
      "2  100  mehmet  python  geçti   CC\n",
      "3  103  tayfun  python  geçti   BA\n",
      "4  101  zeynep    java  geçti   AA\n",
      "\n",
      " \n",
      "\n",
      "0--> Çıkış \n",
      "1-->Öğrenci Ekle\n",
      "2--> Öğrenci Düzenle\n",
      "3--> KayıtGöster\n",
      "4--> CSV Dışa Aktar\n",
      "5--> Geçenlerin Listesi\n",
      "6--> Kalanların Listesi\n"
     ]
    },
    {
     "name": "stdin",
     "output_type": "stream",
     "text": [
      " 6\n"
     ]
    },
    {
     "name": "stdout",
     "output_type": "stream",
     "text": [
      "Kalanların Listesi\n",
      "Empty DataFrame\n",
      "Columns: [No, Adi, Ders, Durum, harf]\n",
      "Index: []\n",
      "\n",
      " \n",
      "\n",
      "0--> Çıkış \n",
      "1-->Öğrenci Ekle\n",
      "2--> Öğrenci Düzenle\n",
      "3--> KayıtGöster\n",
      "4--> CSV Dışa Aktar\n",
      "5--> Geçenlerin Listesi\n",
      "6--> Kalanların Listesi\n"
     ]
    },
    {
     "name": "stdin",
     "output_type": "stream",
     "text": [
      " 4\n"
     ]
    },
    {
     "name": "stdout",
     "output_type": "stream",
     "text": [
      "0--> Çıkış \n",
      "1-->Öğrenci Ekle\n",
      "2--> Öğrenci Düzenle\n",
      "3--> KayıtGöster\n",
      "4--> CSV Dışa Aktar\n",
      "5--> Geçenlerin Listesi\n",
      "6--> Kalanların Listesi\n"
     ]
    },
    {
     "name": "stdin",
     "output_type": "stream",
     "text": [
      " 1\n",
      "Öğrenci Adi: deneme\n",
      "Öğrenci No: 106\n",
      "Ders Adı: python\n",
      "Vize: 40\n",
      "Final: 35\n"
     ]
    },
    {
     "name": "stdout",
     "output_type": "stream",
     "text": [
      "Ekleme İşleme Başarılı\n",
      "0--> Çıkış \n",
      "1-->Öğrenci Ekle\n",
      "2--> Öğrenci Düzenle\n",
      "3--> KayıtGöster\n",
      "4--> CSV Dışa Aktar\n",
      "5--> Geçenlerin Listesi\n",
      "6--> Kalanların Listesi\n"
     ]
    },
    {
     "name": "stdin",
     "output_type": "stream",
     "text": [
      " 6\n"
     ]
    },
    {
     "name": "stdout",
     "output_type": "stream",
     "text": [
      "Kalanların Listesi\n",
      "    No     Adi    Ders  Durum harf\n",
      "0  106  deneme  python  kaldı   FD\n",
      "\n",
      " \n",
      "\n",
      "0--> Çıkış \n",
      "1-->Öğrenci Ekle\n",
      "2--> Öğrenci Düzenle\n",
      "3--> KayıtGöster\n",
      "4--> CSV Dışa Aktar\n",
      "5--> Geçenlerin Listesi\n",
      "6--> Kalanların Listesi\n"
     ]
    },
    {
     "name": "stdin",
     "output_type": "stream",
     "text": [
      " 3\n"
     ]
    },
    {
     "name": "stdout",
     "output_type": "stream",
     "text": [
      "Sınıf Listesi\n",
      "    No     Adi    Ders  Durum harf\n",
      "0  104    ezgi  python  geçti   BB\n",
      "1  105  furkan  python  geçti   CB\n",
      "2  100  mehmet  python  geçti   CC\n",
      "3  103  tayfun  python  geçti   BA\n",
      "4  101  zeynep    java  geçti   AA\n",
      "5  106  deneme  python  kaldı   FD\n",
      "\n",
      " \n",
      "\n",
      "0--> Çıkış \n",
      "1-->Öğrenci Ekle\n",
      "2--> Öğrenci Düzenle\n",
      "3--> KayıtGöster\n",
      "4--> CSV Dışa Aktar\n",
      "5--> Geçenlerin Listesi\n",
      "6--> Kalanların Listesi\n"
     ]
    }
   ],
   "source": [
    "while True:\n",
    "    print(\"0--> Çıkış \\n1-->Öğrenci Ekle\\n2--> Öğrenci Düzenle\\n3--> KayıtGöster\\n4--> CSV Dışa Aktar\\n5--> Geçenlerin Listesi\\n6--> Kalanların Listesi\")\n",
    "    seçim=int(input())\n",
    "    if seçim==0:\n",
    "        break\n",
    "    elif seçim==1:\n",
    "        ad=str(input(\"Öğrenci Adi:\"))\n",
    "        ogr_no=int(input(\"Öğrenci No:\"))\n",
    "        ders=str(input(\"Ders Adı:\"))\n",
    "        vize=int(input(\"Vize:\"))\n",
    "        final=int(input(\"Final:\"))\n",
    "        ogr=ogrenci(ad,ogr_no,ders,vize,final)\n",
    "        ogr.kayitEkle()\n",
    "    elif seçim==2:\n",
    "        no=int(input(\"Düzenlenecek Öğrencini No:\"))\n",
    "        ogrenci_duzenle(no)\n",
    "    elif seçim==3:\n",
    "        print(\"Sınıf Listesi\")\n",
    "        data=gecen()+kalan()\n",
    "        df = pd.DataFrame(data, columns=['No', 'Adi','Ders','Durum','harf'])\n",
    "        print(df)\n",
    "        print(\"\\n \\n\")\n",
    "    elif seçim==4:\n",
    "        data=gecen()+kalan()\n",
    "        df = pd.DataFrame(data, columns=['No', 'Adi','Ders','Durum','harf'])\n",
    "        df.to_csv(\"Çıktı.csv\")\n",
    "    elif seçim==5:\n",
    "        print(\"Geçenlerin Listesi\")\n",
    "        data=gecen()\n",
    "        df = pd.DataFrame(data, columns=['No', 'Adi','Ders','Durum','harf'])\n",
    "        print(df)\n",
    "        print(\"\\n \\n\")\n",
    "    elif seçim==6:\n",
    "        print(\"Kalanların Listesi\")\n",
    "        data=kalan()\n",
    "        df = pd.DataFrame(data, columns=['No', 'Adi','Ders','Durum','harf'])\n",
    "        print(df)\n",
    "        print(\"\\n \\n\")\n",
    "        \n",
    "        \n",
    "        "
   ]
  },
  {
   "cell_type": "markdown",
   "metadata": {},
   "source": []
  },
  {
   "cell_type": "code",
   "execution_count": null,
   "metadata": {},
   "outputs": [],
   "source": []
  },
  {
   "cell_type": "code",
   "execution_count": null,
   "metadata": {},
   "outputs": [],
   "source": []
  },
  {
   "cell_type": "code",
   "execution_count": null,
   "metadata": {},
   "outputs": [],
   "source": []
  }
 ],
 "metadata": {
  "kernelspec": {
   "display_name": "Python 3",
   "language": "python",
   "name": "python3"
  },
  "language_info": {
   "codemirror_mode": {
    "name": "ipython",
    "version": 3
   },
   "file_extension": ".py",
   "mimetype": "text/x-python",
   "name": "python",
   "nbconvert_exporter": "python",
   "pygments_lexer": "ipython3",
   "version": "3.6.12"
  }
 },
 "nbformat": 4,
 "nbformat_minor": 4
}
